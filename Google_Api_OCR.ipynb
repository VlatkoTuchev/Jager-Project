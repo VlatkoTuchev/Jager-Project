{
 "cells": [
  {
   "cell_type": "code",
   "execution_count": null,
   "metadata": {},
   "outputs": [],
   "source": [
    "!pip install google-cloud-vision"
   ]
  },
  {
   "cell_type": "code",
   "execution_count": null,
   "metadata": {},
   "outputs": [],
   "source": [
    "import os, io\n",
    "from google.cloud import vision\n",
    "from google.cloud.vision_v1 import types\n",
    "import pandas as pd"
   ]
  },
  {
   "cell_type": "code",
   "execution_count": null,
   "metadata": {},
   "outputs": [],
   "source": [
    "!export GOOGLE_APPLICATION_CREDENTIALS=\"/Users/vlatko/Desktop/Brainster/QR codes Project Brainster/ServiceAccountGoogleToken.json\""
   ]
  },
  {
   "cell_type": "code",
   "execution_count": null,
   "metadata": {},
   "outputs": [],
   "source": [
    "os.environ['GOOGLE_APPLICATION_CREDENTIALS'] = r'ServiceAccountGoogleToken.json'"
   ]
  },
  {
   "cell_type": "code",
   "execution_count": null,
   "metadata": {},
   "outputs": [],
   "source": [
    "client = vision.ImageAnnotatorClient()"
   ]
  },
  {
   "cell_type": "code",
   "execution_count": null,
   "metadata": {},
   "outputs": [],
   "source": [
    "print(client)"
   ]
  },
  {
   "cell_type": "code",
   "execution_count": null,
   "metadata": {},
   "outputs": [],
   "source": [
    "def detectText(img):\n",
    "    with io.open(img, 'rb') as image_file:\n",
    "        content = image_file.read()\n",
    "        \n",
    "    image = types.Image(content = content)\n",
    "    response = client.text_detection(image = image)\n",
    "    texts = response.text_annotations\n",
    "    \n",
    "    df = pd.DataFrame(columns = ['locale','description'])\n",
    "    \n",
    "    texts = response.text_annotations\n",
    "\n",
    "    for text in texts:\n",
    "        df = df.append(\n",
    "            dict(\n",
    "                 locale = text.locale,\n",
    "                 description = text.description\n",
    "            ),\n",
    "            ignore_index = True\n",
    "        )\n",
    "    return df['description'][0]"
   ]
  },
  {
   "cell_type": "code",
   "execution_count": 9,
   "metadata": {},
   "outputs": [
    {
     "name": "stdout",
     "output_type": "stream",
     "text": [
      "Logo\n",
      "с. Равно поле, ул. \"3-ти Март\" No 1\n",
      "ЕИК: 131071587\n",
      "Лидл Самоков 189\n",
      "бул. Искър N 25\n",
      "ЗДДС No BG131071587\n",
      "* ДУБ ЛИК АТ* *\n",
      "УНП: BNO09492-0045-0079681\n",
      "%23\n",
      "#Hом: 456190 Бон:200\n",
      "#2-отчет:469\n",
      "#Каса:5 Касиер: 45\n",
      "2#\n",
      "СЛАД. МИНИ МИКС ПЛОД\n",
      "СЛАДОЛЕД БЯЛ ШОКОЛАД\n",
      "СЛАДОЛЕД\n",
      "VEREYA ПРЯСНО МЛЯКО\n",
      "2.00000 х 2.49\n",
      "ВАФЛЕНИ РУЛЦА ВАНИЛИ\n",
      "ТЕРМОС 0314013\n",
      "JAEGERMEISTER 35%\n",
      "2.00000 х 0.29\n",
      "НАЙЛОНОВА ТОРБА\n",
      "2.00000 x 0.99\n",
      "УЧЕБНО ПОМАГАЛО О323777\n",
      "ЗЪРНЕНА ЗАК. КАКАО\n",
      "ЛИСТОВЕ ЗА ВЛОК N 0319800\n",
      "КАБАНОСИ ПИЛСВИНСКО\n",
      "0.45400 x 10.99\n",
      "BАРЕНО-ПУШЕН св. БУТ\n",
      "0.38400 x 8.69\n",
      "ВАРЕНО-ПУШЕН БУТ\n",
      "ЛУКАНКОВА НАДЕНИЦА\n",
      "ШППЕК БУРГАС\n",
      "ГЛИЦ.САПУН МЕД/МЛЯКО\n",
      "КРЕНВИРШИ ЗА ДЕЦА\n",
      "5.00000 х 1.15\n",
      "KINDER PINGUI\n",
      "ГЛИЦ. САПУН МАК\n",
      "КОМПЛЕКТ ЗА ПИСАН 0334397\n",
      "LED OCBET. K-KТ 0337685\n",
      "ТРАЯНА БИСКВ. КЛАСИК\n",
      "%23\n",
      "ВGN #\n",
      "4.29 D\n",
      "5.89 b\n",
      "5.99 Б\n",
      "2.45 b\n",
      "4.98 Б\n",
      "12.99 Б\n",
      "12.99 b\n",
      "0.58 b\n",
      "1.98 Б\n",
      "1.79 Б\n",
      "1.29 Б\n",
      "2.49 Б\n",
      "4.99 B\n",
      "3.34 B\n",
      "3.79 Б\n",
      "2.85 Б\n",
      "0.69 Б\n",
      "3.19 Б\n",
      "5.75 b\n",
      "0.69 b\n",
      "4.49 Б\n",
      "4.99 Б\n",
      "1.79 B\n",
      "МЕЖДИННА СУМА\n",
      "94.27\n",
      "ОБЩА СУМА\n",
      "94.27\n",
      "В БРОЙ\n",
      "РЕСТО\n",
      "100.00\n",
      "5.73\n",
      "#3-\n",
      "0000107243 24.08.2020 19:31:31 23 АРТИКУЛА\n",
      "СЛУЖЕБЕН БоН\n",
      "BNO09492\n",
      "8620F00OBC713ЕОЕЗСВ226470A4B4FFAA6D16198\n",
      "51010375\n",
      "\n"
     ]
    }
   ],
   "source": [
    "FILE_NAME = 'image.jpeg'\n",
    "FOLDER_PATH = r'/Users/vlatko/Desktop/Brainster/Jager Project Brainster'\n",
    "image = os.path.join(FOLDER_PATH,FILE_NAME)\n",
    "\n",
    "print(detectText(image))"
   ]
  },
  {
   "cell_type": "code",
   "execution_count": 19,
   "metadata": {},
   "outputs": [],
   "source": [
    "text = detectText(image)"
   ]
  },
  {
   "cell_type": "code",
   "execution_count": 14,
   "metadata": {},
   "outputs": [
    {
     "data": {
      "text/plain": [
       "'t'"
      ]
     },
     "execution_count": 14,
     "metadata": {},
     "output_type": "execute_result"
    }
   ],
   "source": [
    "detectText(image)[0]"
   ]
  },
  {
   "cell_type": "code",
   "execution_count": 16,
   "metadata": {},
   "outputs": [
    {
     "data": {
      "text/plain": [
       "['text',\n",
       " '=',\n",
       " 'The',\n",
       " 'titular',\n",
       " 'threat',\n",
       " 'of',\n",
       " 'The',\n",
       " 'Blob',\n",
       " 'has',\n",
       " 'always',\n",
       " 'struck',\n",
       " 'me',\n",
       " 'as',\n",
       " 'the',\n",
       " 'ultimate',\n",
       " 'movie',\n",
       " 'monster:',\n",
       " 'an',\n",
       " 'insatiably',\n",
       " 'hungry,',\n",
       " 'amoeba-like',\n",
       " 'mass',\n",
       " 'able',\n",
       " 'to',\n",
       " 'penetrate',\n",
       " 'virtually',\n",
       " 'any',\n",
       " 'safeguard,',\n",
       " 'capable',\n",
       " 'of--as',\n",
       " 'a',\n",
       " 'doomed',\n",
       " 'doctor',\n",
       " 'chillingly',\n",
       " 'describes',\n",
       " 'it--\"assimilating',\n",
       " 'flesh',\n",
       " 'on',\n",
       " 'contact.',\n",
       " 'Snide',\n",
       " 'comparisons',\n",
       " 'to',\n",
       " 'gelatin',\n",
       " 'be',\n",
       " 'damned,',\n",
       " \"it's\",\n",
       " 'a',\n",
       " 'concept',\n",
       " 'with',\n",
       " 'the',\n",
       " 'most',\n",
       " 'devastating',\n",
       " 'of',\n",
       " 'potential',\n",
       " 'consequences,',\n",
       " 'not',\n",
       " 'unlike',\n",
       " 'the',\n",
       " 'grey',\n",
       " 'goo',\n",
       " 'scenario',\n",
       " 'proposed',\n",
       " 'by',\n",
       " 'technological',\n",
       " 'theorists',\n",
       " 'fearful',\n",
       " 'of',\n",
       " 'artificial',\n",
       " 'intelligence',\n",
       " 'run',\n",
       " 'rampant.']"
      ]
     },
     "execution_count": 16,
     "metadata": {},
     "output_type": "execute_result"
    }
   ],
   "source": [
    "detectText(image).split()"
   ]
  },
  {
   "cell_type": "code",
   "execution_count": 17,
   "metadata": {},
   "outputs": [
    {
     "data": {
      "text/plain": [
       "['text',\n",
       " '=',\n",
       " 'The',\n",
       " 'titular',\n",
       " 'threat',\n",
       " 'of',\n",
       " 'The',\n",
       " 'Blob',\n",
       " 'has',\n",
       " 'always',\n",
       " 'struck',\n",
       " 'me',\n",
       " 'as',\n",
       " 'the',\n",
       " 'ultimate',\n",
       " 'movie',\n",
       " 'monster:',\n",
       " 'an',\n",
       " 'insatiably',\n",
       " 'hungry,',\n",
       " 'amoeba-like',\n",
       " 'mass',\n",
       " 'able',\n",
       " 'to',\n",
       " 'penetrate',\n",
       " 'virtually',\n",
       " 'any',\n",
       " 'safeguard,',\n",
       " 'capable',\n",
       " 'of--as',\n",
       " 'a',\n",
       " 'doomed',\n",
       " 'doctor',\n",
       " 'chillingly',\n",
       " 'describes',\n",
       " 'it--\"assimilating',\n",
       " 'flesh',\n",
       " 'on',\n",
       " 'contact.',\n",
       " 'Snide',\n",
       " 'comparisons',\n",
       " 'to',\n",
       " 'gelatin',\n",
       " 'be',\n",
       " 'damned,',\n",
       " \"it's\",\n",
       " 'a',\n",
       " 'concept',\n",
       " 'with',\n",
       " 'the',\n",
       " 'most',\n",
       " 'devastating',\n",
       " 'of',\n",
       " 'potential',\n",
       " 'consequences,',\n",
       " 'not',\n",
       " 'unlike',\n",
       " 'the',\n",
       " 'grey',\n",
       " 'goo',\n",
       " 'scenario',\n",
       " 'proposed',\n",
       " 'by',\n",
       " 'technological',\n",
       " 'theorists',\n",
       " 'fearful',\n",
       " 'of',\n",
       " 'artificial',\n",
       " 'intelligence',\n",
       " 'run',\n",
       " 'rampant.']"
      ]
     },
     "execution_count": 17,
     "metadata": {},
     "output_type": "execute_result"
    }
   ],
   "source": [
    "list(detectText(image).split())"
   ]
  },
  {
   "cell_type": "code",
   "execution_count": null,
   "metadata": {},
   "outputs": [],
   "source": []
  }
 ],
 "metadata": {
  "kernelspec": {
   "display_name": "Python 3.7 (tensorflow)",
   "language": "python",
   "name": "tensorflow"
  },
  "language_info": {
   "codemirror_mode": {
    "name": "ipython",
    "version": 3
   },
   "file_extension": ".py",
   "mimetype": "text/x-python",
   "name": "python",
   "nbconvert_exporter": "python",
   "pygments_lexer": "ipython3",
   "version": "3.7.7"
  }
 },
 "nbformat": 4,
 "nbformat_minor": 4
}
